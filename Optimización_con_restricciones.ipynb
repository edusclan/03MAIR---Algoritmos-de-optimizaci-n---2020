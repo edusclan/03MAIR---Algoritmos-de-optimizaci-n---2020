{
  "nbformat": 4,
  "nbformat_minor": 0,
  "metadata": {
    "colab": {
      "name": "Optimización con restricciones.ipynb",
      "provenance": [],
      "private_outputs": true
    },
    "kernelspec": {
      "name": "python3",
      "display_name": "Python 3"
    }
  },
  "cells": [
    {
      "cell_type": "code",
      "metadata": {
        "id": "iptDAZn-sINv",
        "colab_type": "code",
        "colab": {}
      },
      "source": [
        "import matplotlib.pyplot as plt\n",
        "import numpy as np\n",
        "from scipy import optimize\n",
        "import cvxopt\n",
        "\n",
        "np.random.seed(1984)\n",
        "\n",
        "%matplotlib inline"
      ],
      "execution_count": null,
      "outputs": []
    },
    {
      "cell_type": "markdown",
      "metadata": {
        "id": "vpgYrwOwsM-7",
        "colab_type": "text"
      },
      "source": [
        " $$ \\min \\ f(x)= (x_1 -1)^2 - (x_2 -1)^2 \\hspace{1cm} \\mbox{sujeto a } \\ 2 \\leq x_1 \\leq 3 \\mbox{ y } 0 \\leq x_2 \\leq 2$$"
      ]
    },
    {
      "cell_type": "markdown",
      "metadata": {
        "id": "hI68FazDvTeY",
        "colab_type": "text"
      },
      "source": [
        "#Este tipo de problema se puede resolver utilizando el método L-BFGS-B que nos ofrece scipy.optimize."
      ]
    },
    {
      "cell_type": "code",
      "metadata": {
        "id": "z5DSqS8AsGoX",
        "colab_type": "code",
        "colab": {}
      },
      "source": [
        "# Ejemplo de optimización con restricciones scipy\n",
        "\n",
        "# defino una funcion de ayuda para subregion en el gráfico\n",
        "def func_X_Y_to_XY(f, X, Y):\n",
        "    \"\"\"\n",
        "    Wrapper for f(X, Y) -> f([X, Y])\n",
        "    \"\"\"\n",
        "    s = np.shape(X)\n",
        "    return f(np.vstack([X.ravel(), Y.ravel()])).reshape(*s)\n",
        "\n",
        "# función a minimizar\n",
        "def f(X):\n",
        "    x, y = X\n",
        "    return (x - 1)**2 + (y - 1)**2\n",
        "\n",
        "# minimizo la función si restricciones\n",
        "x_opt = optimize.minimize(f, (1, 1), method='BFGS').x\n",
        "\n",
        "# el mínimo para las restricciones\n",
        "bnd_x1, bnd_x2 = (2, 3), (0, 2)\n",
        "x_cons_opt = optimize.minimize(f, np.array([1, 1]), method='L-BFGS-B',\n",
        "bounds=[bnd_x1, bnd_x2]).x\n",
        "\n",
        "# graficando la solución\n",
        "fig, ax = plt.subplots(figsize=(10, 8))\n",
        "x_ = y_ = np.linspace(-1, 3, 100)\n",
        "X, Y = np.meshgrid(x_, y_)\n",
        "c = ax.contour(X, Y, func_X_Y_to_XY(f, X, Y), 50)\n",
        "ax.plot(x_opt[0], x_opt[1], 'b*', markersize=15)\n",
        "ax.plot(x_cons_opt[0], x_cons_opt[1], 'r*', markersize=15)\n",
        "bound_rect = plt.Rectangle((bnd_x1[0], bnd_x2[0]),\n",
        "bnd_x1[1] - bnd_x1[0], bnd_x2[1] - bnd_x2[0],\n",
        "facecolor=\"grey\")\n",
        "ax.add_patch(bound_rect)\n",
        "ax.set_xlabel(r\"$x_1$\", fontsize=18)\n",
        "ax.set_ylabel(r\"$x_2$\", fontsize=18)\n",
        "plt.colorbar(c, ax=ax)\n",
        "ax.set_title('Optimización con restricciones')\n",
        "plt.show()"
      ],
      "execution_count": null,
      "outputs": []
    },
    {
      "cell_type": "markdown",
      "metadata": {
        "id": "QrDTaA7xvDOS",
        "colab_type": "text"
      },
      "source": [
        "$$g(x) = x_1 - 1.75 - ( x_0 - 0.75 )^4 \\geq 0$$"
      ]
    },
    {
      "cell_type": "code",
      "metadata": {
        "id": "9YIOUbSjuaI-",
        "colab_type": "code",
        "colab": {}
      },
      "source": [
        "# Ejemplo scipy SLSQP\n",
        "# funcion de restriccion\n",
        "def g(X):\n",
        "    return X[1] - 1.75 - (X[0] - 0.75)**4\n",
        "\n",
        "# definimos el diccionario con la restricción\n",
        "restriccion = dict(type='ineq', fun=g)\n",
        "\n",
        "# resolvemos\n",
        "x_opt = optimize.minimize(f, (0, 0), method='BFGS').x\n",
        "x_cons_opt = optimize.minimize(f, (0, 0), method='SLSQP',\n",
        "                               constraints=restriccion).x\n",
        "\n",
        "# graficamos\n",
        "ig, ax = plt.subplots(figsize=(10, 8))\n",
        "x_ = y_ = np.linspace(-1, 3, 100)\n",
        "X, Y = np.meshgrid(x_, y_)\n",
        "c = ax.contour(X, Y, func_X_Y_to_XY(f, X, Y), 50)\n",
        "ax.plot(x_opt[0], x_opt[1], 'b*', markersize=15)\n",
        "ax.plot(x_, 1.75 + (x_-0.75)**4, 'k-', markersize=15)\n",
        "ax.fill_between(x_, 1.75 + (x_-0.75)**4, 3, color='grey')\n",
        "ax.plot(x_cons_opt[0], x_cons_opt[1], 'r*', markersize=15)\n",
        "ax.set_ylim(-1, 3)\n",
        "ax.set_xlabel(r\"$x_0$\", fontsize=18)\n",
        "ax.set_ylabel(r\"$x_1$\", fontsize=18)\n",
        "plt.colorbar(c, ax=ax)\n",
        "plt.show()"
      ],
      "execution_count": null,
      "outputs": []
    }
  ]
}