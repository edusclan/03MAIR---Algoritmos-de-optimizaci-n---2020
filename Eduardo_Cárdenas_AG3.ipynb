{
  "nbformat": 4,
  "nbformat_minor": 0,
  "metadata": {
    "colab": {
      "name": "Eduardo Cárdenas-AG3.ipynb",
      "provenance": [],
      "private_outputs": true
    },
    "kernelspec": {
      "name": "python3",
      "display_name": "Python 3"
    }
  },
  "cells": [
    {
      "cell_type": "markdown",
      "metadata": {
        "id": "4LP9W0VnO3yk",
        "colab_type": "text"
      },
      "source": [
        "\n",
        "# AG-3 Actividad Guiada \n",
        "## Nombre: Eduardo Cárdenas \n",
        "###URL: https://colab.research.google.com/drive/1pFQ27d7MA4TjnH5bosEEtkvXcqXHSUdE?usp=sharing\n"
      ]
    },
    {
      "cell_type": "code",
      "metadata": {
        "id": "gEpM1DNmVdiZ",
        "colab_type": "code",
        "colab": {}
      },
      "source": [
        "!pip install request\n",
        "!pip install tsplib95"
      ],
      "execution_count": null,
      "outputs": []
    },
    {
      "cell_type": "code",
      "metadata": {
        "id": "uDrFZyH8WGPN",
        "colab_type": "code",
        "colab": {}
      },
      "source": [
        "import urllib.request"
      ],
      "execution_count": null,
      "outputs": []
    },
    {
      "cell_type": "code",
      "metadata": {
        "id": "gAWnp-XvVniO",
        "colab_type": "code",
        "colab": {}
      },
      "source": [
        "file = 'swiss42'\n",
        "urllib.request.urlretrieve('http://elib.zib.de/pub/mp-testdata/tsp/tsplib/tsp/swiss42.tsp',file)"
      ],
      "execution_count": null,
      "outputs": []
    },
    {
      "cell_type": "code",
      "metadata": {
        "id": "VlWvGkqAWudm",
        "colab_type": "code",
        "colab": {}
      },
      "source": [
        "import tsplib95\n",
        "import random\n",
        "from math import e ,inf, exp"
      ],
      "execution_count": null,
      "outputs": []
    },
    {
      "cell_type": "code",
      "metadata": {
        "id": "zg2CWtEjXu3f",
        "colab_type": "code",
        "colab": {}
      },
      "source": [
        "problem = tsplib95.load(file)\n",
        "\n",
        "Nodos = list(problem.get_nodes())\n",
        "Aristas = list(problem.get_edges())"
      ],
      "execution_count": null,
      "outputs": []
    },
    {
      "cell_type": "markdown",
      "metadata": {
        "id": "I-9ygIgnYvBt",
        "colab_type": "text"
      },
      "source": [
        "$$\\frac{(n-1)!}{2} = \\frac {334525...........}{2}$$"
      ]
    },
    {
      "cell_type": "code",
      "metadata": {
        "id": "q_kVHbzdYmGW",
        "colab_type": "code",
        "colab": {}
      },
      "source": [
        "def crear_solucion(Nodos):\n",
        "  solucion = [Nodos[0]]\n",
        "  for n in Nodos[1:]:\n",
        "    solucion = solucion + [random.choice(list(set(Nodos) - set({Nodos[0]}) - set(solucion)))]\n",
        "  return solucion\n",
        "\n",
        "crear_solucion(Nodos)\n",
        "\n",
        "def distancia(a,b, problem):\n",
        "  return  problem.get_weight(a,b)\n",
        "\n",
        "distancia(0,1,problem)\n",
        "\n",
        "def distancia_total(solucion, problem):\n",
        "  distancia_total = 0\n",
        "  for i in range(len(solucion)-1):\n",
        "    distancia_total += distancia(solucion[i] ,solucion[i+1] ,  problem)\n",
        "  return distancia_total + distancia(solucion[len(solucion)-1] ,solucion[0], problem)\n",
        "\n",
        "s= crear_solucion(Nodos)\n",
        "distancia_total(s, problem)"
      ],
      "execution_count": null,
      "outputs": []
    },
    {
      "cell_type": "code",
      "metadata": {
        "id": "v6T8OhjhbyhU",
        "colab_type": "code",
        "colab": {}
      },
      "source": [
        "def busqueda_aleatoria(problem, N):\n",
        "\n",
        "  mejor_solucion = []\n",
        "  mejor_distancia= 10e10\n",
        "  \n",
        "  for i in range(N):\n",
        "    solucion = crear_solucion(Nodos)\n",
        "    distancia = distancia_total(solucion, problem)\n",
        "\n",
        "    if distancia < mejor_distancia:\n",
        "      mejor_solucion = solucion\n",
        "      mejor_distancia = distancia\n",
        "\n",
        "  print(\"Mejor solución: \", mejor_solucion)\n",
        "  print(\"Distancia    : \", mejor_distancia)\n",
        "  return mejor_solucion\n",
        "\n",
        "sol = busqueda_aleatoria(problem, 10000)\n",
        "#print(distancia_total(s, problem), s)"
      ],
      "execution_count": null,
      "outputs": []
    },
    {
      "cell_type": "code",
      "metadata": {
        "id": "goZMe3AOfzzU",
        "colab_type": "code",
        "colab": {}
      },
      "source": [
        "#Busqueda Local\n",
        "\n",
        "def genera_vecina(solucion):\n",
        "  #Generador de soluciones vecinas\n",
        "  mejor_solucion = []\n",
        "  mejor_distancia = 10e100\n",
        "\n",
        "  for i in range(1, len(solucion)-1):\n",
        "    for j in range(i+1, len(solucion)):\n",
        "\n",
        "      vecina = solucion[:i] + [solucion[j]] + solucion[i+1:j] + [solucion[i]] + solucion[j+1:]\n",
        "      distancia_vecina =  distancia_total(vecina, problem)\n",
        "\n",
        "      if distancia_vecina < mejor_distancia:\n",
        "        mejor_solucion = vecina\n",
        "        mejor_distancia = distancia_vecina\n",
        "    \n",
        "  return mejor_solucion\n",
        "\n",
        "s1 = crear_solucion(Nodos)\n",
        "\n",
        "s2 = genera_vecina(s1)\n",
        "\n",
        "print(distancia_total(s1, problem), s1)\n",
        "print(distancia_total(s2, problem), s2)"
      ],
      "execution_count": null,
      "outputs": []
    },
    {
      "cell_type": "code",
      "metadata": {
        "id": "vCSfElpEjMQj",
        "colab_type": "code",
        "colab": {}
      },
      "source": [
        "def busqueda_local(problem):\n",
        "  mejor_solucion = []\n",
        "\n",
        "  solucion_referencia = crear_solucion(Nodos)\n",
        "  mejor_distancia = 10e100\n",
        "\n",
        "  iteracion = 0 \n",
        "  while(1):\n",
        "    iteracion =+ 1\n",
        "    vecina = genera_vecina(solucion_referencia)\n",
        "    distancia_vecina = distancia_total(vecina, problem)\n",
        "\n",
        "    if distancia_vecina < mejor_distancia:\n",
        "      mejor_solucion = vecina\n",
        "      mejor_distancia = distancia_vecina\n",
        "    else:\n",
        "      print(\"En la iteracion \", iteracion, \" encontramos la solucion:\", mejor_solucion )\n",
        "      print(\"Distancia: \", mejor_distancia)\n",
        "      return mejor_solucion\n",
        "    solucion_referencia = vecina"
      ],
      "execution_count": null,
      "outputs": []
    },
    {
      "cell_type": "code",
      "metadata": {
        "id": "jDqWI_DqQwVP",
        "colab_type": "code",
        "colab": {}
      },
      "source": [
        "sol = busqueda_local(problem)"
      ],
      "execution_count": null,
      "outputs": []
    },
    {
      "cell_type": "code",
      "metadata": {
        "id": "LQtGC_X-lrn5",
        "colab_type": "code",
        "colab": {}
      },
      "source": [
        "def genera_vecina_aleatoria(solucion):\n",
        "    i,j = sorted(random.sample( range(1,len(solucion)), 2))\n",
        "    return solucion[:i] + [solucion[j]] + solucion[i+1:j] + [solucion[i]] + solucion[j+1:]\n",
        "print(genera_vecina_aleatoria(s1))"
      ],
      "execution_count": null,
      "outputs": []
    },
    {
      "cell_type": "code",
      "metadata": {
        "id": "O5Q4g5sdVXYP",
        "colab_type": "code",
        "colab": {}
      },
      "source": [
        "def bajar_temperatura(T):\n",
        "  return T*0.999\n",
        "bajar_temperatura(37)"
      ],
      "execution_count": null,
      "outputs": []
    },
    {
      "cell_type": "code",
      "metadata": {
        "id": "abN_jMUvUJyI",
        "colab_type": "code",
        "colab": {}
      },
      "source": [
        "def probabilidad(T,d):\n",
        "  if random.random() <= exp(-1*d / T):\n",
        "    return True\n",
        "  else: \n",
        "    return False\n",
        "probabilidad(1000, 100)"
      ],
      "execution_count": null,
      "outputs": []
    },
    {
      "cell_type": "markdown",
      "metadata": {
        "id": "uubaLDEFb1Cy",
        "colab_type": "text"
      },
      "source": [
        "#Recocido Simulado"
      ]
    },
    {
      "cell_type": "code",
      "metadata": {
        "id": "AbMBuTviP4LX",
        "colab_type": "code",
        "colab": {}
      },
      "source": [
        "def recocido_simulado(problem,TEMPERATURA=1000):\n",
        "  \n",
        "  solucion_referencia = crear_solucion(Nodos)\n",
        "  distancia_referencia = distancia_total(solucion_referencia, problem)\n",
        "\n",
        "  mejor_solucion = []\n",
        "  mejor_distancia = 10e100\n",
        "\n",
        "  N=0\n",
        "  while TEMPERATURA> .0001:\n",
        "    N += 1\n",
        "    vecina = genera_vecina_aleatoria(solucion_referencia)\n",
        "\n",
        "    distancia_vecina = distancia_total(vecina, problem)\n",
        "\n",
        "    if distancia_vecina < mejor_distancia:\n",
        "      mejor_solucion = vecina\n",
        "      mejor_distancia = distancia_vecina\n",
        "\n",
        "    if distancia_vecina < distancia_referencia or probabilidad(TEMPERATURA, abs(distancia_referencia - distancia_vecina) ):\n",
        "      solucion_referencia = vecina\n",
        "      distancia_referencia = distancia_vecina\n",
        "\n",
        "    TEMPERATURA = bajar_temperatura(TEMPERATURA)\n",
        "\n",
        "  print(\"La mejor solucion encontrada es \", end=\"\")\n",
        "  print(mejor_solucion)\n",
        "  print(\"con una distancia total de \", end=\"\")\n",
        "  print(mejor_distancia)\n",
        "  return mejor_solucion\n",
        "\n",
        "sol = recocido_simulado(problem, 1000000)\n"
      ],
      "execution_count": null,
      "outputs": []
    },
    {
      "cell_type": "markdown",
      "metadata": {
        "id": "DkWCWdzVb77P",
        "colab_type": "text"
      },
      "source": [
        "#Colonia de Homrigas"
      ]
    },
    {
      "cell_type": "code",
      "metadata": {
        "id": "Au_m0Sk3gf7y",
        "colab_type": "code",
        "colab": {}
      },
      "source": [
        ""
      ],
      "execution_count": null,
      "outputs": []
    },
    {
      "cell_type": "code",
      "metadata": {
        "id": "tHkKcRfgeEnG",
        "colab_type": "code",
        "colab": {}
      },
      "source": [
        "def Add_Nodo(problem, H, T):\n",
        "  Nodos = list(problem.get_nodes())\n",
        "  return random.choice( list(set(range(1,len(Nodos))) - set(H) ) )\n",
        "  "
      ],
      "execution_count": null,
      "outputs": []
    },
    {
      "cell_type": "code",
      "metadata": {
        "id": "CAe8uUs8eexA",
        "colab_type": "code",
        "colab": {}
      },
      "source": [
        "def Incrementa_Feromona(problem, T, H):\n",
        "  for i in range(len(H)-1):\n",
        "    T[H[i]][H[i+1]] += 1000/distancia_total(H, problem)\n",
        "  return T"
      ],
      "execution_count": null,
      "outputs": []
    },
    {
      "cell_type": "code",
      "metadata": {
        "id": "0iP-x4EQfA9k",
        "colab_type": "code",
        "colab": {}
      },
      "source": [
        "def Evaporar_Feromonas(T ):\n",
        "  T= [[max(T[i][j] - 0.3, 1) for i in range(len(Nodos)) ] for j in range(len(Nodos))]\n",
        "  return T"
      ],
      "execution_count": null,
      "outputs": []
    },
    {
      "cell_type": "code",
      "metadata": {
        "id": "mR7_mAWdoWiv",
        "colab_type": "code",
        "colab": {}
      },
      "source": [
        "def hormigas(problem, N) :\n",
        "\n",
        "  Nodos = list(problem.get_nodes())\n",
        "\n",
        "  Aristas = list(problem.get_edges())\n",
        "\n",
        "  T = [[1 for _ in range(len(Nodos)) ] for _ in range(len(Nodos))]\n",
        "  Hormiga = [[0] for _ in range(N)]\n",
        "\n",
        "  for h in range(N) :\n",
        "    for i in range(len(Nodos)-1):\n",
        "\n",
        "      Nuevo_Nodo = Add_Nodo(problem, Hormiga[h],T )\n",
        "      Hormiga[h].append(Nuevo_Nodo)\n",
        "\n",
        "    T = Incrementa_Feromona(problem, T, Hormiga[h] )\n",
        "    T = Evaporar_Feromonas(T)\n",
        "  mejor_solucion = []\n",
        "  mejor_distancia = 10e100\n",
        "\n",
        "  for h in range(N) :\n",
        "    distancia_actual = distancia_total(Hormiga[h], problem)\n",
        "    if distancia_actual  < mejor_distancia:\n",
        "      mejor_solucion = Hormiga[h]\n",
        "      mejor_distancia = distancia_actual\n",
        "\n",
        "  print(mejor_solucion)\n",
        "  print(\"La mejor distancias es: \", mejor_distancia)\n",
        "  return(mejor_solucion,mejor_distancia)\n"
      ],
      "execution_count": null,
      "outputs": []
    },
    {
      "cell_type": "code",
      "metadata": {
        "id": "Q5kdPOI1fmJ9",
        "colab_type": "code",
        "colab": {}
      },
      "source": [
        "sol = hormigas(problem, 500)"
      ],
      "execution_count": null,
      "outputs": []
    }
  ]
}