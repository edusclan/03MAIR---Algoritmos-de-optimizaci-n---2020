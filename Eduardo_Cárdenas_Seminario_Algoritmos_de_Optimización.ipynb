{
  "nbformat": 4,
  "nbformat_minor": 0,
  "metadata": {
    "colab": {
      "name": "Eduardo Cárdenas Seminario - Algoritmos de Optimización.ipynb",
      "provenance": [],
      "collapsed_sections": [
        "3_-exlrTgLd-"
      ],
      "include_colab_link": true
    },
    "kernelspec": {
      "name": "python3",
      "display_name": "Python 3"
    }
  },
  "cells": [
    {
      "cell_type": "markdown",
      "metadata": {
        "id": "view-in-github",
        "colab_type": "text"
      },
      "source": [
        "<a href=\"https://colab.research.google.com/github/edusclan/03MAIR---Algoritmos-de-optimizaci-n---2020/blob/master/Eduardo_C%C3%A1rdenas_Seminario_Algoritmos_de_Optimizaci%C3%B3n.ipynb\" target=\"_parent\"><img src=\"https://colab.research.google.com/assets/colab-badge.svg\" alt=\"Open In Colab\"/></a>"
      ]
    },
    {
      "cell_type": "markdown",
      "metadata": {
        "id": "hVbXYX-RfPWh"
      },
      "source": [
        "# Algoritmos de optimización - Seminario<br>\n",
        "Nombre y Apellidos:   <br>\n",
        "Url: https://github.com/edusclan/03MAIR---Algoritmos-de-optimizaci-n---2020/blob/master/Eduardo_C%C3%A1rdenas_Seminario_Algoritmos_de_Optimizaci%C3%B3n.ipynb\n",
        "Problema:\n",
        "> 1. Sesiones de doblaje <br>\n",
        ">2. Organizar los horarios de partidos de La Liga<br>\n",
        ">3. Combinar cifras y operaciones\n",
        "\n",
        "Descripción del problema:\n",
        "\n",
        "#### **Problema 3.** \n",
        "**Combinar cifras y operaciones**\n",
        "\n",
        "- El problema consiste en analizar el siguiente problema y diseñar un algoritmo que lo resuelva.\n",
        "\n",
        "- Disponemos de las 9 cifras del 1 al 9 (excluimos el cero) y de los 4 signos basicos de las operaciones fundamentales: suma(+), resta(-), multiplicacion(*), y division(/)\n",
        "\n",
        "- Debemos combinarlos alternativamente sin repetir ninguno de ellos para obtener una cantidad dada. Une ejemplo seria para obtener el 4:\n",
        "\n",
        "4+6-6/3*1 = 4\n",
        "\n",
        "\n",
        "\n",
        "- Debe analizarse el problema para encontrar todos los valores enteros posibles planteando las siguientes cuestiones:\n",
        "¿Que valor maximo y minimo se puede obtener segun las condiciones del problema?\n",
        "¿Es posible encontrar todos los valores enteros posibles entre dicho minimo y maximo?\n",
        "\n",
        "Nota: es posible usar la funcion de python \"eval\" para evaluar una expresión:\n",
        "\n",
        "expresion = \"4-2+6/3*1\"\n",
        "\n",
        "print(eval(expresion))\n",
        "\n",
        "4.0\n",
        "\n",
        "(*) La respuesta es obligatoria\n",
        "\n",
        "\n",
        "\n",
        "\n",
        "\n",
        "                                        "
      ]
    },
    {
      "cell_type": "code",
      "metadata": {
        "id": "AiskKkzZfy4e"
      },
      "source": [
        "import itertools\n",
        "import operator"
      ],
      "execution_count": null,
      "outputs": []
    },
    {
      "cell_type": "markdown",
      "metadata": {
        "id": "uQSAIMcNVPCJ"
      },
      "source": [
        "###**Lista de numeros del 1 al 9**"
      ]
    },
    {
      "cell_type": "code",
      "metadata": {
        "id": "1ikiRAOhUMQV",
        "colab": {
          "base_uri": "https://localhost:8080/"
        },
        "outputId": "04115a9a-deeb-4c78-ac55-7214726732a1"
      },
      "source": [
        "\n",
        "nums= list(range(1,10,1))\n",
        "\n",
        "nums"
      ],
      "execution_count": null,
      "outputs": [
        {
          "output_type": "execute_result",
          "data": {
            "text/plain": [
              "[1, 2, 3, 4, 5, 6, 7, 8, 9]"
            ]
          },
          "metadata": {
            "tags": []
          },
          "execution_count": 2
        }
      ]
    },
    {
      "cell_type": "markdown",
      "metadata": {
        "id": "9Ky6j_NyVf4K"
      },
      "source": [
        "###De forma aleatoria e iterativa se realizan las **permutaciónes** en cinco cifras y calculando todas las posibles soluciones.\n",
        "\n"
      ]
    },
    {
      "cell_type": "markdown",
      "metadata": {
        "id": "FyeMPzftxvRB"
      },
      "source": [
        "##**Diseña un algoritmo para resolver el problema por fuerza bruta**"
      ]
    },
    {
      "cell_type": "code",
      "metadata": {
        "id": "4N1L0BWJ5_sf"
      },
      "source": [
        "_oper0= []\r\n",
        "_oper1=[]\r\n",
        "_resultado= []\r\n",
        "_contador=0"
      ],
      "execution_count": 14,
      "outputs": []
    },
    {
      "cell_type": "code",
      "metadata": {
        "id": "bvhdTte8uveL"
      },
      "source": [
        "for q in range(1,10,1):\r\n",
        " for w in range(1,10,1):\r\n",
        "  for e in range(1,10,1):\r\n",
        "    for r in range(1,10,1):\r\n",
        "      for t in range(1,10,1):\r\n",
        "        oper0=(str(q)+ \"-\" + str(w) + \"+\" + str(e) + \"/\" + str(r) + \"*\" + str(t))\r\n",
        "        _oper0.append(oper0)\r\n",
        "        resultado = eval(oper0)\r\n",
        "        #print(str(oper0) + \"=\" + str(resultado))"
      ],
      "execution_count": null,
      "outputs": []
    },
    {
      "cell_type": "markdown",
      "metadata": {
        "id": "4OVm3sRZ5zCe"
      },
      "source": [
        "##**Solución mejorada a fuerza bruta**"
      ]
    },
    {
      "cell_type": "code",
      "metadata": {
        "id": "S0wgJaQcWSRB"
      },
      "source": [
        "_oper= []\n",
        "_oper2=[]\n",
        "_resultados= []\n",
        "_contador=0"
      ],
      "execution_count": null,
      "outputs": []
    },
    {
      "cell_type": "code",
      "metadata": {
        "id": "iSiR1GpIvcYJ"
      },
      "source": [
        "for i in itertools.permutations(nums, 5):\r\n",
        "  oper= str(i[0])+ '-' + str(i[1]) + '+' + str(i[2]) + '/' + str(i[3]) + '*' + str(i[4])\r\n",
        "  _oper.append(oper)\r\n",
        "  resultados = eval(oper)\r\n",
        "  #print(str(oper) + '=' + str(resultados))\r\n",
        "  _contador=_contador+1\r\n",
        "  _resultados.append(resultados)\r\n",
        "  #print(_contador)"
      ],
      "execution_count": null,
      "outputs": []
    },
    {
      "cell_type": "code",
      "metadata": {
        "id": "g0t_0IR83Hzp"
      },
      "source": [
        "for j in itertools.combinations_with_replacement(nums, 5):\r\n",
        "  oper2= str(j[0])+ '-' + str(j[1]) + '+' + str(j[2]) + '/' + str(j[3]) + '*' + str(j[4])\r\n",
        "  _oper2.append(oper2)\r\n",
        "  resultados = eval(oper2)\r\n",
        "  #print(str(oper2) + '=' + str(resultados))\r\n",
        "  _contador=_contador+1\r\n",
        "  _resultados.append(resultados)\r\n",
        "  #print(_contador)"
      ],
      "execution_count": null,
      "outputs": []
    },
    {
      "cell_type": "code",
      "metadata": {
        "id": "MQBK4KOVL5KN",
        "colab": {
          "base_uri": "https://localhost:8080/"
        },
        "outputId": "9a7634b8-eedb-4881-a826-62df662f27d2"
      },
      "source": [
        "print(\"Los posibles resultados sin restricciones son = \" + str(len(_oper2)+(len(_oper))))"
      ],
      "execution_count": null,
      "outputs": [
        {
          "output_type": "stream",
          "text": [
            "Los posibles resultados sin restricciones son = 16407\n"
          ],
          "name": "stdout"
        }
      ]
    },
    {
      "cell_type": "code",
      "metadata": {
        "id": "nKdz8YQVMgp-",
        "colab": {
          "base_uri": "https://localhost:8080/"
        },
        "outputId": "b5b7aa51-d7fb-4942-f77a-5b20f147e543"
      },
      "source": [
        "print('Los posibles resultados con restricciones son = ' + str(len(_oper)))"
      ],
      "execution_count": null,
      "outputs": [
        {
          "output_type": "stream",
          "text": [
            "Los posibles resultados con restricciones son = 15120\n"
          ],
          "name": "stdout"
        }
      ]
    },
    {
      "cell_type": "markdown",
      "metadata": {
        "id": "dzynfVJahHoY"
      },
      "source": [
        "Modelo para el espacio de soluciones<br>\n",
        "(*) ¿Cual es la estructura de datos que mejor se adapta al problema? Argumentalo.(Es posible que hayas elegido una al principio y veas la necesidad de cambiar, arguentalo)\n"
      ]
    },
    {
      "cell_type": "markdown",
      "metadata": {
        "id": "xFIJrOwKi2Ti"
      },
      "source": [
        "###Respuesta"
      ]
    },
    {
      "cell_type": "markdown",
      "metadata": {
        "id": "UotAikN2NSWn"
      },
      "source": [
        "Los reultados enlistados permiten permiten salvar por medio de condiciones de forma iterativa y sin la necesidad de hacer un sort ya que van de forma ordenada. Sin embargo la carga computacional de 5 variables anidadas hacen que la operación iterativa se vuelva lenta. Es por eso que se decidió implementar la solución por **itertools.permutations** que le permite al algoritmo intercambiar valores dentro de la misma iteración en todas sus variantes posibles según el rango determinado de digitos, en este caso los declarados nums, a diferencia de implementar el rango a partir de la función range(inicio,paro,paso). \n"
      ]
    },
    {
      "cell_type": "markdown",
      "metadata": {
        "id": "7Z9U2W7bi-XS"
      },
      "source": [
        "###Según el modelo para el espacio de soluciones<br>\n",
        "####(*)¿Cual es la función objetivo?\n",
        "```\n",
        "# código\n",
        "\n",
        "i = numeros\n",
        "_i= i[1],i[2],i[3],i[4]\n",
        "```\n",
        "$f(_i) = \\frac{i1 -i2 + i3}{i4 * i5}$\n",
        "\n",
        "\n",
        "####(*)¿Es un problema de maximización o minimización?\n",
        "\n",
        "Aplica para ambos casos"
      ]
    },
    {
      "cell_type": "markdown",
      "metadata": {
        "id": "70rDgxYXkC8r"
      },
      "source": [
        "Respuesta"
      ]
    },
    {
      "cell_type": "markdown",
      "metadata": {
        "id": "f1ovy1xkqSjP"
      },
      "source": [
        "Utilizamos los resultados del algoritmo con la función max y min respectivamente para obtener el resultado."
      ]
    },
    {
      "cell_type": "code",
      "metadata": {
        "id": "CJb5sQ0qkENy",
        "colab": {
          "base_uri": "https://localhost:8080/"
        },
        "outputId": "88df4977-4a82-425c-fd10-74f76c2729cc"
      },
      "source": [
        "import numpy as np\n",
        "Max = np.max(_resultados)\n",
        "Min = np.min(_resultados)\n",
        "print('Se calculan los valore máximos y minimos de los resultados')\n",
        "print('El valor máximo es =' + str(Max), '\\n' 'El valor Mínimos es = ' + str(Min))"
      ],
      "execution_count": null,
      "outputs": [
        {
          "output_type": "stream",
          "text": [
            "Se calculan los valore máximos y minimos de los resultados\n",
            "El valor máximo es =77.0 \n",
            "El valor Mínimos es = -7.25\n"
          ],
          "name": "stdout"
        }
      ]
    },
    {
      "cell_type": "markdown",
      "metadata": {
        "id": "tgrnsC2nkFa8"
      },
      "source": [
        "####Calcula la complejidad del algoritmo por fuerza bruta"
      ]
    },
    {
      "cell_type": "markdown",
      "metadata": {
        "id": "9eUd3xwckP68"
      },
      "source": [
        "Respuesta"
      ]
    },
    {
      "cell_type": "code",
      "metadata": {
        "id": "rvZWwL-ckRST"
      },
      "source": [
        ""
      ],
      "execution_count": null,
      "outputs": []
    },
    {
      "cell_type": "markdown",
      "metadata": {
        "id": "txbrmLmskReM"
      },
      "source": [
        "(*)Diseña un algoritmo que mejore la complejidad del algortimo por fuerza bruta. Argumenta porque crees que mejora el algoritmo por fuerza bruta"
      ]
    },
    {
      "cell_type": "markdown",
      "metadata": {
        "id": "hLrVwt5QkZPD"
      },
      "source": [
        "Respuesta"
      ]
    },
    {
      "cell_type": "code",
      "metadata": {
        "id": "m1eyM21Vkabg"
      },
      "source": [
        ""
      ],
      "execution_count": null,
      "outputs": []
    },
    {
      "cell_type": "markdown",
      "metadata": {
        "id": "eGDB4K6uk1iN"
      },
      "source": [
        "(*)Calcula la complejidad del algoritmo "
      ]
    },
    {
      "cell_type": "markdown",
      "metadata": {
        "id": "NhpTh_BPk1ms"
      },
      "source": [
        "Respuesta"
      ]
    },
    {
      "cell_type": "markdown",
      "metadata": {
        "id": "K81loJiJpRUP"
      },
      "source": [
        ""
      ]
    },
    {
      "cell_type": "markdown",
      "metadata": {
        "id": "zy5ZROmjlGo1"
      },
      "source": [
        "Aplica el algoritmo al juego de datos generado"
      ]
    },
    {
      "cell_type": "markdown",
      "metadata": {
        "id": "_Cmj-PVylMsa"
      },
      "source": [
        "Respuesta"
      ]
    },
    {
      "cell_type": "markdown",
      "metadata": {
        "id": "eTFWUJQrtGcv"
      },
      "source": [
        "Enumera las referencias que has utilizado(si ha sido necesario) para llevar a cabo el trabajo\n",
        "(*)1 . https://www.datacamp.com/community/tutorials/python-while-loop?utm_source=adwords_ppc&utm_campaignid=1455363063&utm_adgroupid=65083631748&utm_device=c&utm_keyword=&utm_matchtype=b&utm_network=g&utm_adpostion=&utm_creative=332602034364&utm_targetid=aud-392016246653:dsa-429603003980&utm_loc_interest_ms=&utm_loc_physical_ms=1010045&gclid=Cj0KCQiAwMP9BRCzARIsAPWTJ_FfygOSSf3QsYxok7C9_7ABDL2aIeGrtzBkUkpR8l93BCBGNFXmHxQaAshqEALw_wcB\n",
        "\n",
        "(*)2 .https://docs.python.org/2/library/itertools.html\n",
        "\n",
        "\n",
        "(*)3. 1st September 2017, 12:18 AM https://www.sololearn.com/Discuss/674616/how-to-check-if-two-string-are-anagram\n",
        "David Ashton "
      ]
    },
    {
      "cell_type": "markdown",
      "metadata": {
        "id": "YKQ_mRBttWsP"
      },
      "source": [
        "Respuesta"
      ]
    },
    {
      "cell_type": "markdown",
      "metadata": {
        "id": "kAkDPUyRtYyH"
      },
      "source": [
        "####Describe brevemente las lineas de como crees que es posible avanzar en el estudio del problema. Ten en cuenta incluso posibles variaciones del problema y/o variaciones al alza del tamaño"
      ]
    },
    {
      "cell_type": "markdown",
      "metadata": {
        "id": "IE0uZmo-tZu-"
      },
      "source": [
        "Respuesta\n",
        "\n",
        "EL coste computacional del algoritmo ya es bajo en cuanto a su procesamiento por lo que debería mejorarse añadiendo o asignando dentro de un one hot encoding aquellas letras similares en minusculas y mayusculas así como aquellas con acento para que el valor de la letra sea el mismo asignado aunque el tamaño de la matriz incrementaría en gran parte el coste computacional."
      ]
    }
  ]
}